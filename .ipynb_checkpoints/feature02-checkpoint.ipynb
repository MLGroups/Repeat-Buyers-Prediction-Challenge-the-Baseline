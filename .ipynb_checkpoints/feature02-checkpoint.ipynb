{
 "cells": [
  {
   "cell_type": "code",
   "execution_count": 3,
   "metadata": {
    "collapsed": true
   },
   "outputs": [],
   "source": [
    "# u_age the age of user\n",
    "# u_gender the gender of user\n",
    "# us_actions  the number of actions on the seller that user handled\n",
    "# u_actions the number of handles that user handled\n",
    "# us_days the number of dats on the seller that user handled\n",
    "# u_days the number of dats that user handled\n",
    "# us_cats ：user reviewed the number of cats on seller\n",
    "# u_cats ：the number of cats that user reviewed \n",
    "# us_brands ：user reviewed the number of brands on seller\n",
    "# u_brands ：the number of brands that user reviewed \n",
    "# us_action_type{x}s  the number of actions on type x user handled the seller \n",
    "# u_action_type{x}s  the number of actions on type x user handled all sellers\n",
    "\n",
    "# s_items       the number of items that the seller\n",
    "# total_items   the number of items that all sellers\n",
    "# s_cats       the number of cats that the seller\n",
    "# total_cats   the number of cats that all sellers\n",
    "# s_brands       the number of brands that the seller\n",
    "# total_brands   the number of brands that all sellers\n",
    "\n",
    "# u1 u_age\n",
    "# u2 u_gender\n",
    "# s3 items_of_the_seller\n",
    "# s4 cats_of_the_seller\n",
    "# s5 brands_of_the_seller\n",
    "\n",
    "# ui1 user clicks  \n",
    "\n",
    "# r1  :us_actions/u_actions\n",
    "# r2  :us_days/u_days\n",
    "# r3  :us_items/u_items\n",
    "# r4  :us_cats/u_cats\n",
    "# r5  :us_brands/u_brands\n",
    "# r6  :us_action_type{0,1,2,3}s/u_action_type{0,1,2,3}s\n",
    "# r7  :s_items/total_items  pass\n",
    "# r8  :s_cats/total_cats pass\n",
    "# r9  :s_brands/total_brands  pass"
   ]
  },
  {
   "cell_type": "code",
   "execution_count": 10,
   "metadata": {
    "scrolled": true
   },
   "outputs": [
    {
     "name": "stdout",
     "output_type": "stream",
     "text": [
      "user_log_shape (54925330, 7)\n",
      "user_info_dataset (424170, 3)\n",
      "user_dataset (54925330, 9)\n",
      "user_dataset (54925330, 14)\n"
     ]
    }
   ],
   "source": [
    "import pandas as pd\n",
    "import numpy as np\n",
    "from sklearn.preprocessing import label_binarize\n",
    "# log\n",
    "user_log_path = 'data/user_log_format1.csv'\n",
    "user_log_dataset = pd.read_csv(user_log_path,low_memory=False)\n",
    "print('user_log_shape',user_log_dataset.shape)\n",
    "# info\n",
    "user_info_path = 'data/user_info_format1.csv'\n",
    "user_info_dataset = pd.read_csv(user_info_path,low_memory=False)\n",
    "print('user_info_dataset',user_info_dataset.shape)\n",
    "# # train\n",
    "# train_path = 'data/train_format1.csv'\n",
    "# train_dataset = pd.read_csv(train_path,low_memory=False)\n",
    "# print('train_dataset',train_dataset.shape)\n",
    "# # test\n",
    "# test_path = 'data/test_format1.csv'\n",
    "# test_dataset = pd.read_csv(test_path,low_memory=False)\n",
    "# print('test_dataset',test_dataset.shape)\n",
    "user_dataset = pd.merge(user_log_dataset,user_info_dataset,on=['user_id'],how='left')\n",
    "print('user_dataset',user_dataset.shape)\n",
    "# 54925330\n",
    "# 异常数据处理\n",
    "user_dataset.age_range.fillna(0,inplace=True)\n",
    "user_dataset.age_range.replace(8,7,inplace=True)\n",
    "# brand_id 是否存在\n",
    "user_dataset['has_brand_id'] = user_dataset.brand_id.isna()\n",
    "user_dataset.has_brand_id.replace(True,1)\n",
    "user_dataset.has_brand_id.replace(False,0)\n",
    "user_dataset.gender.fillna(2,inplace=True)\n",
    "user_dataset.age_range = user_dataset.age_range.astype(int)\n",
    "user_dataset.gender = user_dataset.gender.astype(int)\n",
    "# actiontype 进行哑编码\n",
    "action_type_hot = label_binarize(np.array(user_dataset.action_type), classes=[0, 1, 2, 3])\n",
    "action_type_hot_df = pd.DataFrame(action_type_hot,columns=['action_type_hot_0','action_type_hot_1','action_type_hot_2','action_type_hot_3'])\n",
    "user_dataset['action_type_hot_0'] = action_type_hot_df.action_type_hot_0\n",
    "user_dataset['action_type_hot_1'] = action_type_hot_df.action_type_hot_1\n",
    "user_dataset['action_type_hot_2'] = action_type_hot_df.action_type_hot_2\n",
    "user_dataset['action_type_hot_3'] = action_type_hot_df.action_type_hot_3\n",
    "print('user_dataset',user_dataset.shape)"
   ]
  },
  {
   "cell_type": "code",
   "execution_count": 84,
   "metadata": {
    "scrolled": true
   },
   "outputs": [
    {
     "name": "stdout",
     "output_type": "stream",
     "text": [
      "u_age (424170, 9)\n",
      "u_gender (424170, 4)\n",
      "u_actions (424170, 2)\n",
      "u_actions_type (424170, 5)\n",
      "u_days (424170, 2)\n",
      "u_items (424170, 2)\n",
      "u_cats (424170, 2)\n",
      "u_brands (424170, 2)\n"
     ]
    }
   ],
   "source": [
    "# user_feature\n",
    "# u1 424170\n",
    "u_age = user_dataset[['user_id','age_range']].copy()\n",
    "u_age = u_age.drop_duplicates()\n",
    "age_range_hot = label_binarize(np.array(u_age.age_range), classes=[0,1, 2, 3, 4, 5, 6, 7])\n",
    "u_age['age_range_0'] = age_range_hot[:,0]\n",
    "u_age['age_range_1'] = age_range_hot[:,1]\n",
    "u_age['age_range_2'] = age_range_hot[:,2]\n",
    "u_age['age_range_3'] = age_range_hot[:,3]\n",
    "u_age['age_range_4'] = age_range_hot[:,4]\n",
    "u_age['age_range_5'] = age_range_hot[:,5]\n",
    "u_age['age_range_6'] = age_range_hot[:,6]\n",
    "u_age['age_range_7'] = age_range_hot[:,7]\n",
    "u_age.drop(columns=['age_range'],inplace=True)\n",
    "print('u_age',u_age.shape)\n",
    "\n",
    "# u2 424170\n",
    "# u_gender the gender of user\n",
    "u_gender = user_dataset[['user_id','gender']].copy()\n",
    "u_gender = u_gender.fillna(2.0)\n",
    "u_gender = u_gender.drop_duplicates(['user_id'])\n",
    "gender_hot = label_binarize(np.array(u_gender.gender), classes=[0, 1, 2])\n",
    "u_gender['gender_hot_0'] = age_range_hot[:,0]\n",
    "u_gender['gender_hot_1'] = age_range_hot[:,1]\n",
    "u_gender['gender_hot_2'] = age_range_hot[:,2]\n",
    "u_gender.drop(columns=['gender'],inplace=True)\n",
    "print('u_gender',u_gender.shape)\n",
    "\n",
    "# u_actions the number of handles that user handled\n",
    "u_actions = user_dataset[['user_id','action_type']].copy()\n",
    "u_actions.action_type = 1\n",
    "u_actions = u_actions.groupby(['user_id']).agg('sum').reset_index()\n",
    "u_actions = u_actions.rename(index=str,columns={'action_type':'u_actions'})\n",
    "print('u_actions',u_actions.shape)\n",
    "\n",
    "# u_action_type{x}s  the number of actions on type x user handled all sellers\n",
    "u_actions_type = user_dataset[['user_id','action_type_hot_0',\n",
    "                                'action_type_hot_1','action_type_hot_2','action_type_hot_3']].copy()\n",
    "u_actions_type = u_actions_type.groupby(['user_id']).agg('sum').reset_index()\n",
    "u_actions_type.rename(index=str,columns={'action_type_hot_0':'u_action_type0s',\n",
    "                                          'action_type_hot_1':'u_action_type1s',\n",
    "                                          'action_type_hot_2':'u_action_type2s',\n",
    "                                          'action_type_hot_3':'u_action_type0s'})\n",
    "print('u_actions_type',u_actions_type.shape)\n",
    "\n",
    "# u_days the number of dats that user handled\n",
    "u_days = user_dataset[['user_id','time_stamp']].copy()\n",
    "u_days.drop_duplicates(inplace=True)\n",
    "u_days.time_stamp = 1\n",
    "u_days = u_days.groupby(['user_id']).agg('sum').reset_index()\n",
    "u_days = u_days.rename(index=str,columns={'time_stamp':'u_days'})\n",
    "print('u_days',u_days.shape)\n",
    "\n",
    "# u_items the number of items that user handled\n",
    "u_items = user_dataset[['user_id','item_id']].copy()\n",
    "u_items.drop_duplicates(inplace=True)\n",
    "u_items.item_id = 1\n",
    "u_items = u_items.groupby(['user_id']).agg('sum').reset_index()\n",
    "u_items = u_items.rename(index=str,columns={'item_id':'u_items'})\n",
    "print('u_items',u_items.shape)\n",
    "\n",
    "# u_cats ：the number of cats that user reviewed \n",
    "u_cats = user_dataset[['user_id','cat_id']].copy()\n",
    "u_cats.drop_duplicates(inplace=True)\n",
    "u_cats.cat_id = 1\n",
    "u_cats = u_cats.groupby(['user_id']).agg('sum').reset_index()\n",
    "u_cats = u_cats.rename(index=str,columns={'cat_id':'u_cats'})\n",
    "print('u_cats',u_cats.shape)\n",
    "\n",
    "# u_brands ：the number of brands that user reviewed \n",
    "u_brands = user_dataset[['user_id','brand_id','has_brand_id']].copy()\n",
    "u_brands.drop_duplicates(['user_id','brand_id'],inplace=True)\n",
    "u_brands.drop(columns=['brand_id'],inplace=True)\n",
    "u_brands = u_brands.groupby(['user_id']).agg('sum').reset_index()\n",
    "u_brands.rename(index=str,columns={'has_brand_id':'u_brands'},inplace=True)\n",
    "print('u_brands',u_brands.shape)"
   ]
  },
  {
   "cell_type": "code",
   "execution_count": 85,
   "metadata": {},
   "outputs": [
    {
     "name": "stdout",
     "output_type": "stream",
     "text": [
      "u12 (424170, 12)\n",
      "user_actions (424170, 13)\n",
      "user_action_types (424170, 17)\n",
      "user_days (424170, 18)\n",
      "user_items (424170, 19)\n",
      "user_cats (424170, 20)\n",
      "user_brands (424170, 21)\n",
      "user_feature (424170, 21)\n"
     ]
    },
    {
     "data": {
      "text/plain": [
       "user_id              False\n",
       "age_range_0          False\n",
       "age_range_1          False\n",
       "age_range_2          False\n",
       "age_range_3          False\n",
       "age_range_4          False\n",
       "age_range_5          False\n",
       "age_range_6          False\n",
       "age_range_7          False\n",
       "gender_hot_0         False\n",
       "gender_hot_1         False\n",
       "gender_hot_2         False\n",
       "u_actions            False\n",
       "action_type_hot_0    False\n",
       "action_type_hot_1    False\n",
       "action_type_hot_2    False\n",
       "action_type_hot_3    False\n",
       "u_days               False\n",
       "u_items              False\n",
       "u_cats               False\n",
       "u_brands             False\n",
       "dtype: bool"
      ]
     },
     "execution_count": 85,
     "metadata": {},
     "output_type": "execute_result"
    }
   ],
   "source": [
    "u12 = pd.merge(u_age,u_gender,on=['user_id'])\n",
    "print('u12',u12.shape)\n",
    "\n",
    "#u_actions\n",
    "user_actions = pd.merge(u12,u_actions,on=['user_id'])\n",
    "print('user_actions',user_actions.shape)\n",
    "\n",
    "#u_action_type\n",
    "user_action_types = pd.merge(user_actions,u_actions_type,on=['user_id'])\n",
    "print('user_action_types',user_action_types.shape)\n",
    "\n",
    "#u_days\n",
    "user_days = pd.merge(user_action_types,u_days,on=['user_id'])\n",
    "print('user_days',user_days.shape)\n",
    "\n",
    "#u_items\n",
    "user_items = pd.merge(user_days,u_items,on=['user_id'])\n",
    "print('user_items',user_items.shape)\n",
    "\n",
    "#u_cats\n",
    "user_cats = pd.merge(user_items,u_cats,on=['user_id'])\n",
    "print('user_cats',user_cats.shape)\n",
    "\n",
    "#u_brands\n",
    "user_brands = pd.merge(user_cats,u_brands,on=['user_id'])\n",
    "print('user_brands',user_brands.shape)\n",
    "\n",
    "user_feature = user_brands.copy()\n",
    "print('user_feature',user_feature.shape)\n",
    "# 验证数据\n",
    "user_feature.isnull().any()"
   ]
  },
  {
   "cell_type": "code",
   "execution_count": 86,
   "metadata": {
    "scrolled": false
   },
   "outputs": [
    {
     "name": "stdout",
     "output_type": "stream",
     "text": [
      "s_item (4995, 2)\n",
      "s_cat (4995, 2)\n",
      "s_brand (4995, 2)\n"
     ]
    }
   ],
   "source": [
    "# s3 items_of_the_seller (number of sellers = 4995)\n",
    "s_item = user_dataset[['seller_id','item_id']].copy()\n",
    "s_item['items_of_the_seller'] = 1\n",
    "s_item.drop_duplicates(['seller_id','item_id'],inplace=True)\n",
    "s_item.drop(columns=['item_id'],inplace=True)\n",
    "s_item = s_item.groupby(['seller_id']).agg('sum').reset_index()\n",
    "print('s_item',s_item.shape)\n",
    "\n",
    "# s4 cats_of_the_seller\n",
    "s_cat = user_dataset[['seller_id','cat_id']].copy()\n",
    "s_cat['cats_of_the_seller'] = 1\n",
    "s_cat.drop_duplicates(['seller_id','cat_id'],inplace=True)\n",
    "s_cat.drop(columns=['cat_id'],inplace=True)\n",
    "s_cat = s_cat.groupby(['seller_id']).agg('sum').reset_index()\n",
    "print('s_cat',s_cat.shape)\n",
    "\n",
    "# s5 brands_of_the_seller\n",
    "s_brand = user_dataset[['seller_id','brand_id','has_brand_id']].copy()\n",
    "s_brand.drop_duplicates(['seller_id','brand_id'],inplace=True)\n",
    "s_brand.drop(columns=['brand_id'],inplace=True)\n",
    "s_brand = s_brand.groupby(['seller_id']).agg('sum').reset_index()\n",
    "s_brand.rename(index=str,columns={'has_brand_id':'s_brand'},inplace=True)\n",
    "print('s_brand',s_brand.shape)\n"
   ]
  },
  {
   "cell_type": "code",
   "execution_count": 87,
   "metadata": {
    "scrolled": true
   },
   "outputs": [
    {
     "name": "stdout",
     "output_type": "stream",
     "text": [
      "s34 (4995, 3)\n",
      "s345 (4995, 4)\n",
      "seller_feature (4995, 4)\n"
     ]
    },
    {
     "data": {
      "text/plain": [
       "seller_id              False\n",
       "items_of_the_seller    False\n",
       "cats_of_the_seller     False\n",
       "s_brand                False\n",
       "dtype: bool"
      ]
     },
     "execution_count": 87,
     "metadata": {},
     "output_type": "execute_result"
    }
   ],
   "source": [
    "#s 3 4 5\n",
    "s34 = pd.merge(s_item,s_cat,on=['seller_id'])\n",
    "print('s34',s34.shape)\n",
    "s345 = pd.merge(s34,s_brand,on=['seller_id'])\n",
    "print('s345',s345.shape)\n",
    "seller_feature = s345.copy()\n",
    "print('seller_feature',seller_feature.shape)\n",
    "\n",
    "# 验证数据\n",
    "seller_feature.isnull().any()"
   ]
  },
  {
   "cell_type": "code",
   "execution_count": 88,
   "metadata": {
    "scrolled": false
   },
   "outputs": [
    {
     "name": "stdout",
     "output_type": "stream",
     "text": [
      "us_actions (14058666, 3)\n",
      "us_actions_type (14058666, 6)\n",
      "us_days (14058666, 3)\n",
      "us_items (14058666, 3)\n",
      "us_cats (14058666, 3)\n",
      "us_brands (14058666, 3)\n"
     ]
    }
   ],
   "source": [
    "# us_actions  the number of actions on the seller that user handled  (user_id\tseller_id\taction_type)\n",
    "us_actions = user_dataset[['user_id','seller_id','action_type']].copy()\n",
    "# us_actions  the number of actions on the seller that user handled\n",
    "us_actions.action_type = 1\n",
    "us_actions = us_actions.groupby(['user_id','seller_id']).agg('sum').reset_index()\n",
    "us_actions = us_actions.rename(index=str,columns={'action_type':'us_actions'})\n",
    "print('us_actions',us_actions.shape)\n",
    "\n",
    "# us_action_type{x}s  the number of actions on type x user handled the seller\n",
    "us_actions_type = user_dataset[['user_id','seller_id','action_type_hot_0',\n",
    "                                'action_type_hot_1','action_type_hot_2','action_type_hot_3']].copy()\n",
    "us_actions_type = us_actions_type.groupby(['user_id','seller_id']).agg('sum').reset_index()\n",
    "us_actions_type = us_actions_type.rename(index=str,columns={'action_type_hot_0':'us_action_type0s',\n",
    "                                          'action_type_hot_1':'us_action_type1s',\n",
    "                                          'action_type_hot_2':'us_action_type2s',\n",
    "                                          'action_type_hot_3':'us_action_type0s'})\n",
    "print('us_actions_type',us_actions_type.shape)\n",
    "\n",
    "# us_days the number of dats on the seller that user handled\n",
    "us_days = user_dataset[['user_id','seller_id','time_stamp']].copy()\n",
    "us_days.drop_duplicates(inplace=True)\n",
    "us_days.time_stamp = 1\n",
    "us_days = us_days.groupby(['user_id','seller_id']).agg('sum').reset_index()\n",
    "us_days = us_days.rename(index=str,columns={'time_stamp':'us_days'})\n",
    "print('us_days',us_days.shape)\n",
    "\n",
    "# us_items the number of dats on the seller that user handled\n",
    "us_items = user_dataset[['user_id','seller_id','item_id']].copy()\n",
    "us_items.drop_duplicates(inplace=True)\n",
    "us_items.item_id = 1\n",
    "us_items = us_items.groupby(['user_id','seller_id']).agg('sum').reset_index()\n",
    "us_items = us_items.rename(index=str,columns={'item_id':'us_items'})\n",
    "print('us_items',us_items.shape)\n",
    "\n",
    "# us_cats ：user reviewed the number of cats on seller\n",
    "us_cats = user_dataset[['user_id','seller_id','cat_id']].copy()\n",
    "us_cats.drop_duplicates(inplace=True)\n",
    "us_cats.cat_id = 1\n",
    "us_cats = us_cats.groupby(['user_id','seller_id']).agg('sum').reset_index()\n",
    "us_cats = us_cats.rename(index=str,columns={'cat_id':'us_cats'})\n",
    "print('us_cats',us_cats.shape)\n",
    "\n",
    "# us_brands ：user reviewed the number of brands on seller\n",
    "us_brands = user_dataset[['user_id','seller_id','brand_id','has_brand_id']].copy()\n",
    "us_brands.drop_duplicates(['user_id','seller_id','brand_id'],inplace=True)\n",
    "us_brands.drop(columns=['brand_id'],inplace=True)\n",
    "us_brands = us_brands.groupby(['user_id','seller_id']).agg('sum').reset_index()\n",
    "us_brands.rename(index=str,columns={'has_brand_id':'us_brands'},inplace=True)\n",
    "print('us_brands',us_brands.shape)"
   ]
  },
  {
   "cell_type": "code",
   "execution_count": 89,
   "metadata": {},
   "outputs": [
    {
     "name": "stdout",
     "output_type": "stream",
     "text": [
      "us (14058666, 7)\n",
      "us (14058666, 8)\n",
      "us (14058666, 9)\n",
      "us (14058666, 10)\n",
      "us (14058666, 11)\n",
      "user_seller_feature (14058666, 11)\n"
     ]
    },
    {
     "data": {
      "text/plain": [
       "user_id             False\n",
       "seller_id           False\n",
       "us_actions          False\n",
       "us_action_type0s    False\n",
       "us_action_type1s    False\n",
       "us_action_type2s    False\n",
       "us_action_type0s    False\n",
       "us_days             False\n",
       "us_items            False\n",
       "us_cats             False\n",
       "us_brands           False\n",
       "dtype: bool"
      ]
     },
     "execution_count": 89,
     "metadata": {},
     "output_type": "execute_result"
    }
   ],
   "source": [
    "# us 数据合并 \n",
    "us = pd.merge(us_actions,us_actions_type,on=['user_id','seller_id'],how='left')\n",
    "print('us',us.shape)\n",
    "us = pd.merge(us,us_days,on=['user_id','seller_id'],how='left')\n",
    "print('us',us.shape)\n",
    "us = pd.merge(us,us_items,on=['user_id','seller_id'],how='left')\n",
    "print('us',us.shape)\n",
    "us = pd.merge(us,us_cats,on=['user_id','seller_id'],how='left')\n",
    "print('us',us.shape)\n",
    "us = pd.merge(us,us_brands,on=['user_id','seller_id'],how='left')\n",
    "print('us',us.shape)\n",
    "user_seller_feature = us.copy()\n",
    "print('user_seller_feature',user_seller_feature.shape)\n",
    "user_seller_feature.head()\n",
    "\n",
    "# 验证数据\n",
    "user_seller_feature.isnull().any()"
   ]
  },
  {
   "cell_type": "code",
   "execution_count": 90,
   "metadata": {
    "scrolled": true
   },
   "outputs": [
    {
     "name": "stdout",
     "output_type": "stream",
     "text": [
      "train_dataset-user  (14058666, 22)\n",
      "train_dataset-seller (14058666, 25)\n",
      "train_dataset-user-seller (14058666, 34)\n",
      "train_dataset (14058666, 34)\n"
     ]
    },
    {
     "data": {
      "text/plain": [
       "user_id                False\n",
       "seller_id              False\n",
       "age_range_0            False\n",
       "age_range_1            False\n",
       "age_range_2            False\n",
       "age_range_3            False\n",
       "age_range_4            False\n",
       "age_range_5            False\n",
       "age_range_6            False\n",
       "age_range_7            False\n",
       "gender_hot_0           False\n",
       "gender_hot_1           False\n",
       "gender_hot_2           False\n",
       "u_actions              False\n",
       "action_type_hot_0      False\n",
       "action_type_hot_1      False\n",
       "action_type_hot_2      False\n",
       "action_type_hot_3      False\n",
       "u_days                 False\n",
       "u_items                False\n",
       "u_cats                 False\n",
       "u_brands               False\n",
       "items_of_the_seller    False\n",
       "cats_of_the_seller     False\n",
       "s_brand                False\n",
       "us_actions             False\n",
       "us_action_type0s       False\n",
       "us_action_type1s       False\n",
       "us_action_type2s       False\n",
       "us_action_type0s       False\n",
       "us_days                False\n",
       "us_items               False\n",
       "us_cats                False\n",
       "us_brands              False\n",
       "dtype: bool"
      ]
     },
     "execution_count": 90,
     "metadata": {},
     "output_type": "execute_result"
    }
   ],
   "source": [
    "train_dataset = user_dataset[['user_id','seller_id']].copy()\n",
    "train_dataset.drop_duplicates(inplace=True)\n",
    "# 合并 user 数据\n",
    "train_dataset = pd.merge(train_dataset,user_feature,on=['user_id'],how='left')\n",
    "print('train_dataset-user ',train_dataset.shape)\n",
    "\n",
    "# 合并 seller 数据\n",
    "train_dataset = pd.merge(train_dataset,seller_feature,on=['seller_id'],how='left')\n",
    "print('train_dataset-seller',train_dataset.shape)\n",
    "\n",
    "# 合并 user-seller 数据\n",
    "train_dataset = pd.merge(train_dataset,user_seller_feature,on=['user_id','seller_id'],how='left')\n",
    "print('train_dataset-user-seller',train_dataset.shape)\n",
    "\n",
    "print('train_dataset',train_dataset.shape)\n",
    "# train_dataset.head()\n",
    "train_dataset.isnull().any()"
   ]
  },
  {
   "cell_type": "code",
   "execution_count": 93,
   "metadata": {},
   "outputs": [
    {
     "data": {
      "text/plain": [
       "0           False\n",
       "1           False\n",
       "2           False\n",
       "3           False\n",
       "4           False\n",
       "5           False\n",
       "6           False\n",
       "7           False\n",
       "8           False\n",
       "9           False\n",
       "10          False\n",
       "11          False\n",
       "12          False\n",
       "13          False\n",
       "14          False\n",
       "15          False\n",
       "16          False\n",
       "17          False\n",
       "18          False\n",
       "19          False\n",
       "20          False\n",
       "21          False\n",
       "22          False\n",
       "23          False\n",
       "24          False\n",
       "25          False\n",
       "26          False\n",
       "27          False\n",
       "28          False\n",
       "29          False\n",
       "            ...  \n",
       "14058636    False\n",
       "14058637    False\n",
       "14058638    False\n",
       "14058639    False\n",
       "14058640    False\n",
       "14058641    False\n",
       "14058642    False\n",
       "14058643    False\n",
       "14058644    False\n",
       "14058645    False\n",
       "14058646    False\n",
       "14058647    False\n",
       "14058648    False\n",
       "14058649    False\n",
       "14058650    False\n",
       "14058651    False\n",
       "14058652    False\n",
       "14058653    False\n",
       "14058654    False\n",
       "14058655    False\n",
       "14058656    False\n",
       "14058657    False\n",
       "14058658    False\n",
       "14058659    False\n",
       "14058660    False\n",
       "14058661    False\n",
       "14058662    False\n",
       "14058663    False\n",
       "14058664    False\n",
       "14058665    False\n",
       "Name: us_brands, Length: 14058666, dtype: bool"
      ]
     },
     "execution_count": 93,
     "metadata": {},
     "output_type": "execute_result"
    }
   ],
   "source": [
    "train_dataset.us_brands"
   ]
  },
  {
   "cell_type": "code",
   "execution_count": null,
   "metadata": {
    "collapsed": true
   },
   "outputs": [],
   "source": []
  },
  {
   "cell_type": "code",
   "execution_count": 92,
   "metadata": {},
   "outputs": [
    {
     "ename": "NotImplementedError",
     "evalue": "operator '/' not implemented for bool dtypes",
     "output_type": "error",
     "traceback": [
      "\u001b[0;31m---------------------------------------------------------------------------\u001b[0m",
      "\u001b[0;31mNotImplementedError\u001b[0m                       Traceback (most recent call last)",
      "\u001b[0;32m<ipython-input-92-60bfaabb3dfa>\u001b[0m in \u001b[0;36m<module>\u001b[0;34m()\u001b[0m\n\u001b[1;32m     10\u001b[0m \u001b[0mtrain_dataset_total\u001b[0m\u001b[0;34m[\u001b[0m\u001b[0;34m'r3'\u001b[0m\u001b[0;34m]\u001b[0m \u001b[0;34m=\u001b[0m \u001b[0mtrain_dataset_total\u001b[0m\u001b[0;34m.\u001b[0m\u001b[0mus_items\u001b[0m \u001b[0;34m/\u001b[0m \u001b[0mtrain_dataset_total\u001b[0m\u001b[0;34m.\u001b[0m\u001b[0mu_items\u001b[0m\u001b[0;34m\u001b[0m\u001b[0m\n\u001b[1;32m     11\u001b[0m \u001b[0mtrain_dataset_total\u001b[0m\u001b[0;34m[\u001b[0m\u001b[0;34m'r4'\u001b[0m\u001b[0;34m]\u001b[0m \u001b[0;34m=\u001b[0m \u001b[0mtrain_dataset_total\u001b[0m\u001b[0;34m.\u001b[0m\u001b[0mus_cats\u001b[0m \u001b[0;34m/\u001b[0m \u001b[0mtrain_dataset_total\u001b[0m\u001b[0;34m.\u001b[0m\u001b[0mu_cats\u001b[0m\u001b[0;34m\u001b[0m\u001b[0m\n\u001b[0;32m---> 12\u001b[0;31m \u001b[0mtrain_dataset_total\u001b[0m\u001b[0;34m[\u001b[0m\u001b[0;34m'r5'\u001b[0m\u001b[0;34m]\u001b[0m \u001b[0;34m=\u001b[0m \u001b[0mtrain_dataset_total\u001b[0m\u001b[0;34m.\u001b[0m\u001b[0mus_brands\u001b[0m \u001b[0;34m/\u001b[0m \u001b[0mtrain_dataset_total\u001b[0m\u001b[0;34m.\u001b[0m\u001b[0mu_brands\u001b[0m\u001b[0;34m\u001b[0m\u001b[0m\n\u001b[0m\u001b[1;32m     13\u001b[0m \u001b[0mtrain_dataset_total\u001b[0m\u001b[0;34m[\u001b[0m\u001b[0;34m'r6'\u001b[0m\u001b[0;34m]\u001b[0m \u001b[0;34m=\u001b[0m \u001b[0mtrain_dataset_total\u001b[0m\u001b[0;34m.\u001b[0m\u001b[0mus_actions\u001b[0m \u001b[0;34m/\u001b[0m \u001b[0mtrain_dataset_total\u001b[0m\u001b[0;34m.\u001b[0m\u001b[0mu_actions\u001b[0m\u001b[0;34m\u001b[0m\u001b[0m\n\u001b[1;32m     14\u001b[0m \u001b[0mtrain_dataset_total\u001b[0m\u001b[0;34m.\u001b[0m\u001b[0mto_csv\u001b[0m\u001b[0;34m(\u001b[0m\u001b[0;34m'data/train_dataset_total.csv'\u001b[0m\u001b[0;34m)\u001b[0m\u001b[0;34m\u001b[0m\u001b[0m\n",
      "\u001b[0;32m~/anaconda3/lib/python3.6/site-packages/pandas/core/ops.py\u001b[0m in \u001b[0;36mwrapper\u001b[0;34m(left, right, name, na_op)\u001b[0m\n\u001b[1;32m    737\u001b[0m                 \u001b[0mlvalues\u001b[0m \u001b[0;34m=\u001b[0m \u001b[0mlvalues\u001b[0m\u001b[0;34m.\u001b[0m\u001b[0mvalues\u001b[0m\u001b[0;34m\u001b[0m\u001b[0m\n\u001b[1;32m    738\u001b[0m \u001b[0;34m\u001b[0m\u001b[0m\n\u001b[0;32m--> 739\u001b[0;31m         \u001b[0mresult\u001b[0m \u001b[0;34m=\u001b[0m \u001b[0mwrap_results\u001b[0m\u001b[0;34m(\u001b[0m\u001b[0msafe_na_op\u001b[0m\u001b[0;34m(\u001b[0m\u001b[0mlvalues\u001b[0m\u001b[0;34m,\u001b[0m \u001b[0mrvalues\u001b[0m\u001b[0;34m)\u001b[0m\u001b[0;34m)\u001b[0m\u001b[0;34m\u001b[0m\u001b[0m\n\u001b[0m\u001b[1;32m    740\u001b[0m         return construct_result(\n\u001b[1;32m    741\u001b[0m             \u001b[0mleft\u001b[0m\u001b[0;34m,\u001b[0m\u001b[0;34m\u001b[0m\u001b[0m\n",
      "\u001b[0;32m~/anaconda3/lib/python3.6/site-packages/pandas/core/ops.py\u001b[0m in \u001b[0;36msafe_na_op\u001b[0;34m(lvalues, rvalues)\u001b[0m\n\u001b[1;32m    698\u001b[0m         \u001b[0;32mtry\u001b[0m\u001b[0;34m:\u001b[0m\u001b[0;34m\u001b[0m\u001b[0m\n\u001b[1;32m    699\u001b[0m             \u001b[0;32mwith\u001b[0m \u001b[0mnp\u001b[0m\u001b[0;34m.\u001b[0m\u001b[0merrstate\u001b[0m\u001b[0;34m(\u001b[0m\u001b[0mall\u001b[0m\u001b[0;34m=\u001b[0m\u001b[0;34m'ignore'\u001b[0m\u001b[0;34m)\u001b[0m\u001b[0;34m:\u001b[0m\u001b[0;34m\u001b[0m\u001b[0m\n\u001b[0;32m--> 700\u001b[0;31m                 \u001b[0;32mreturn\u001b[0m \u001b[0mna_op\u001b[0m\u001b[0;34m(\u001b[0m\u001b[0mlvalues\u001b[0m\u001b[0;34m,\u001b[0m \u001b[0mrvalues\u001b[0m\u001b[0;34m)\u001b[0m\u001b[0;34m\u001b[0m\u001b[0m\n\u001b[0m\u001b[1;32m    701\u001b[0m         \u001b[0;32mexcept\u001b[0m \u001b[0mException\u001b[0m\u001b[0;34m:\u001b[0m\u001b[0;34m\u001b[0m\u001b[0m\n\u001b[1;32m    702\u001b[0m             \u001b[0;32mif\u001b[0m \u001b[0misinstance\u001b[0m\u001b[0;34m(\u001b[0m\u001b[0mrvalues\u001b[0m\u001b[0;34m,\u001b[0m \u001b[0mABCSeries\u001b[0m\u001b[0;34m)\u001b[0m\u001b[0;34m:\u001b[0m\u001b[0;34m\u001b[0m\u001b[0m\n",
      "\u001b[0;32m~/anaconda3/lib/python3.6/site-packages/pandas/core/ops.py\u001b[0m in \u001b[0;36mna_op\u001b[0;34m(x, y)\u001b[0m\n\u001b[1;32m    674\u001b[0m \u001b[0;34m\u001b[0m\u001b[0m\n\u001b[1;32m    675\u001b[0m         \u001b[0;32mtry\u001b[0m\u001b[0;34m:\u001b[0m\u001b[0;34m\u001b[0m\u001b[0m\n\u001b[0;32m--> 676\u001b[0;31m             \u001b[0mresult\u001b[0m \u001b[0;34m=\u001b[0m \u001b[0mexpressions\u001b[0m\u001b[0;34m.\u001b[0m\u001b[0mevaluate\u001b[0m\u001b[0;34m(\u001b[0m\u001b[0mop\u001b[0m\u001b[0;34m,\u001b[0m \u001b[0mstr_rep\u001b[0m\u001b[0;34m,\u001b[0m \u001b[0mx\u001b[0m\u001b[0;34m,\u001b[0m \u001b[0my\u001b[0m\u001b[0;34m,\u001b[0m \u001b[0;34m**\u001b[0m\u001b[0meval_kwargs\u001b[0m\u001b[0;34m)\u001b[0m\u001b[0;34m\u001b[0m\u001b[0m\n\u001b[0m\u001b[1;32m    677\u001b[0m         \u001b[0;32mexcept\u001b[0m \u001b[0mTypeError\u001b[0m\u001b[0;34m:\u001b[0m\u001b[0;34m\u001b[0m\u001b[0m\n\u001b[1;32m    678\u001b[0m             \u001b[0;32mif\u001b[0m \u001b[0misinstance\u001b[0m\u001b[0;34m(\u001b[0m\u001b[0my\u001b[0m\u001b[0;34m,\u001b[0m \u001b[0;34m(\u001b[0m\u001b[0mnp\u001b[0m\u001b[0;34m.\u001b[0m\u001b[0mndarray\u001b[0m\u001b[0;34m,\u001b[0m \u001b[0mABCSeries\u001b[0m\u001b[0;34m,\u001b[0m \u001b[0mpd\u001b[0m\u001b[0;34m.\u001b[0m\u001b[0mIndex\u001b[0m\u001b[0;34m)\u001b[0m\u001b[0;34m)\u001b[0m\u001b[0;34m:\u001b[0m\u001b[0;34m\u001b[0m\u001b[0m\n",
      "\u001b[0;32m~/anaconda3/lib/python3.6/site-packages/pandas/core/computation/expressions.py\u001b[0m in \u001b[0;36mevaluate\u001b[0;34m(op, op_str, a, b, use_numexpr, **eval_kwargs)\u001b[0m\n\u001b[1;32m    200\u001b[0m         \"\"\"\n\u001b[1;32m    201\u001b[0m \u001b[0;34m\u001b[0m\u001b[0m\n\u001b[0;32m--> 202\u001b[0;31m     \u001b[0muse_numexpr\u001b[0m \u001b[0;34m=\u001b[0m \u001b[0muse_numexpr\u001b[0m \u001b[0;32mand\u001b[0m \u001b[0m_bool_arith_check\u001b[0m\u001b[0;34m(\u001b[0m\u001b[0mop_str\u001b[0m\u001b[0;34m,\u001b[0m \u001b[0ma\u001b[0m\u001b[0;34m,\u001b[0m \u001b[0mb\u001b[0m\u001b[0;34m)\u001b[0m\u001b[0;34m\u001b[0m\u001b[0m\n\u001b[0m\u001b[1;32m    203\u001b[0m     \u001b[0;32mif\u001b[0m \u001b[0muse_numexpr\u001b[0m\u001b[0;34m:\u001b[0m\u001b[0;34m\u001b[0m\u001b[0m\n\u001b[1;32m    204\u001b[0m         \u001b[0;32mreturn\u001b[0m \u001b[0m_evaluate\u001b[0m\u001b[0;34m(\u001b[0m\u001b[0mop\u001b[0m\u001b[0;34m,\u001b[0m \u001b[0mop_str\u001b[0m\u001b[0;34m,\u001b[0m \u001b[0ma\u001b[0m\u001b[0;34m,\u001b[0m \u001b[0mb\u001b[0m\u001b[0;34m,\u001b[0m \u001b[0;34m**\u001b[0m\u001b[0meval_kwargs\u001b[0m\u001b[0;34m)\u001b[0m\u001b[0;34m\u001b[0m\u001b[0m\n",
      "\u001b[0;32m~/anaconda3/lib/python3.6/site-packages/pandas/core/computation/expressions.py\u001b[0m in \u001b[0;36m_bool_arith_check\u001b[0;34m(op_str, a, b, not_allowed, unsupported)\u001b[0m\n\u001b[1;32m    182\u001b[0m         \u001b[0;32mif\u001b[0m \u001b[0mop_str\u001b[0m \u001b[0;32min\u001b[0m \u001b[0mnot_allowed\u001b[0m\u001b[0;34m:\u001b[0m\u001b[0;34m\u001b[0m\u001b[0m\n\u001b[1;32m    183\u001b[0m             raise NotImplementedError(\"operator {op!r} not implemented for \"\n\u001b[0;32m--> 184\u001b[0;31m                                       \"bool dtypes\".format(op=op_str))\n\u001b[0m\u001b[1;32m    185\u001b[0m     \u001b[0;32mreturn\u001b[0m \u001b[0;32mTrue\u001b[0m\u001b[0;34m\u001b[0m\u001b[0m\n\u001b[1;32m    186\u001b[0m \u001b[0;34m\u001b[0m\u001b[0m\n",
      "\u001b[0;31mNotImplementedError\u001b[0m: operator '/' not implemented for bool dtypes"
     ]
    }
   ],
   "source": [
    "# r1  :us_actions/u_actions\n",
    "# r2  :us_days/u_days\n",
    "# r3  :us_items/u_items\n",
    "# r4  :us_cats/u_cats\n",
    "# r5  :us_brands/u_brands\n",
    "# r6  :us_action_type{0,1,2,3}s/u_action_type{0,1,2,3}s\n",
    "train_dataset_total = train_dataset.copy()\n",
    "train_dataset_total['r1'] = train_dataset_total.us_actions / train_dataset_total.u_actions\n",
    "train_dataset_total['r2'] = train_dataset_total.us_days / train_dataset_total.u_days\n",
    "train_dataset_total['r3'] = train_dataset_total.us_items / train_dataset_total.u_items\n",
    "train_dataset_total['r4'] = train_dataset_total.us_cats / train_dataset_total.u_cats\n",
    "train_dataset_total['r5'] = train_dataset_total.us_brands / train_dataset_total.u_brands\n",
    "train_dataset_total['r6'] = train_dataset_total.us_actions / train_dataset_total.u_actions\n",
    "train_dataset_total.to_csv('data/train_dataset_total.csv')\n",
    "print('train_dataset_total',train_dataset_total.shape)\n",
    "# train_dataset_total.head()\n",
    "train_dataset_total.isnull().any()"
   ]
  },
  {
   "cell_type": "code",
   "execution_count": null,
   "metadata": {
    "collapsed": true
   },
   "outputs": [],
   "source": []
  },
  {
   "cell_type": "code",
   "execution_count": null,
   "metadata": {
    "collapsed": true
   },
   "outputs": [],
   "source": []
  }
 ],
 "metadata": {
  "kernelspec": {
   "display_name": "Python 3",
   "language": "python",
   "name": "python3"
  },
  "language_info": {
   "codemirror_mode": {
    "name": "ipython",
    "version": 3
   },
   "file_extension": ".py",
   "mimetype": "text/x-python",
   "name": "python",
   "nbconvert_exporter": "python",
   "pygments_lexer": "ipython3",
   "version": "3.6.3"
  }
 },
 "nbformat": 4,
 "nbformat_minor": 2
}
